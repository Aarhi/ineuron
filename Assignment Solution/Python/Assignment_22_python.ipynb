{
 "cells": [
  {
   "cell_type": "markdown",
   "metadata": {},
   "source": [
    "# Assignment 22"
   ]
  },
  {
   "cell_type": "markdown",
   "metadata": {},
   "source": [
    "Q.1.\n",
    "\n",
    "Output:\n",
    "iNeuron\n",
    "Explanation:\n",
    "Since func() has no other local variable named X, so it prints X which is defined in the first line as iNeuron\n",
    "\n",
    "Q.2.\n",
    "\n",
    "Output:\n",
    "iNeuron\n",
    "Explanation:\n",
    "func() has a local variable X whose scope is within the function only. Whereas X defined in the first line has the entire file's scope.\n",
    "\n",
    "Q.3.\n",
    "\n",
    "Output: \n",
    "NI\n",
    "iNeuron\n",
    "Explanation: \n",
    "> func() -> func() has a local variable X whose scope is within the function. Since print(X) is called within the function, the output is the value of the local X.\n",
    "\n",
    "> print(X) -> This statement prints the X defined in the first line since it is outside the scope of any function\n",
    "\n",
    "Q.4.\n",
    "\n",
    "Output:\n",
    "NI\n",
    "NI\n",
    "Explanation: \n",
    "> func() -> func() has declared X as a global variable X. The output is the value of X.\n",
    "\n",
    "> print(X) -> This statement prints the X whose value is assigned within the function as X is a global variable\n",
    "\n",
    "Q.5.\n",
    "\n",
    "From the question, it is not clear whether the indentation for the statement nested() is inside the def nested block or outside. It is assumed that it is outside the block.\n",
    "\n",
    "Output:\n",
    "NI\n",
    "iNeuron\n",
    "\n",
    "Explanation:\n",
    "> func() -> defines a local X variable whose scope is within the function. Since nested is defined within the scope of func(), upon calling nested, it prints the local variable X defined in func.\n",
    "\n",
    "> X -> This statement prints the X defined in the first line since it is outside the scope of any function\n",
    "\n",
    "Q.6.\n",
    "\n",
    "Output:\n",
    "Spam\n",
    "\n",
    "Explanation:\n",
    "Nonlocal variables are defined in nested function definitions to indicate that the scope of that variable is not local to the nested function but also extends to the outer function, but not outside the outer function. Hence a nonlocal variable is neither local nor global. Since X is nonlocal here, hence calling func prints the X defined inside nested.\n"
   ]
  },
  {
   "cell_type": "code",
   "execution_count": null,
   "metadata": {},
   "outputs": [],
   "source": []
  }
 ],
 "metadata": {
  "kernelspec": {
   "display_name": "Python 3",
   "language": "python",
   "name": "python3"
  },
  "language_info": {
   "codemirror_mode": {
    "name": "ipython",
    "version": 3
   },
   "file_extension": ".py",
   "mimetype": "text/x-python",
   "name": "python",
   "nbconvert_exporter": "python",
   "pygments_lexer": "ipython3",
   "version": "3.8.5"
  }
 },
 "nbformat": 4,
 "nbformat_minor": 4
}
