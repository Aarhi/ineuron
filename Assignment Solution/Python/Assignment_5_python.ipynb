{
 "cells": [
  {
   "cell_type": "markdown",
   "metadata": {},
   "source": [
    "# Assignment 5\n",
    "\n",
    "1.\n",
    "\n",
    "An empty dictionary is written as {}"
   ]
  },
  {
   "cell_type": "code",
   "execution_count": 1,
   "metadata": {},
   "outputs": [
    {
     "name": "stdout",
     "output_type": "stream",
     "text": [
      "{} <class 'dict'>\n"
     ]
    }
   ],
   "source": [
    "d = {}\n",
    "print(d, type(d))"
   ]
  },
  {
   "cell_type": "markdown",
   "metadata": {},
   "source": [
    "2.\n",
    "\n",
    "A dictionary with key as 'foo' and value as 42 is written as {'foo':42}\n",
    "dict.items returns [('foo', 42)]\n",
    "dict.values returs [42]\n"
   ]
  },
  {
   "cell_type": "code",
   "execution_count": 3,
   "metadata": {},
   "outputs": [
    {
     "name": "stdout",
     "output_type": "stream",
     "text": [
      "42\n",
      "dict_items([('foo', 42)])\n",
      "dict_values([42])\n"
     ]
    }
   ],
   "source": [
    "d = {'foo':42}\n",
    "print(d['foo'])\n",
    "print(d.items())\n",
    "print(d.values())\n"
   ]
  },
  {
   "cell_type": "markdown",
   "metadata": {},
   "source": [
    "3.\n",
    "\n",
    "A dictionary's index can be of any immutable data type. The elements of a dictionary are unordered and values are accessed only via the key. But a list's indices are only integers. So the elements in a list are ordered and accessed based on their position in the list. \n",
    "\n",
    "4.\n",
    "\n",
    "Since spam does not contain the key, it gives KeyError"
   ]
  },
  {
   "cell_type": "code",
   "execution_count": 4,
   "metadata": {},
   "outputs": [
    {
     "ename": "KeyError",
     "evalue": "'foo'",
     "output_type": "error",
     "traceback": [
      "\u001b[1;31m---------------------------------------------------------------------------\u001b[0m",
      "\u001b[1;31mKeyError\u001b[0m                                  Traceback (most recent call last)",
      "\u001b[1;32m<ipython-input-4-cea1cd791e68>\u001b[0m in \u001b[0;36m<module>\u001b[1;34m\u001b[0m\n\u001b[0;32m      1\u001b[0m \u001b[0mspam\u001b[0m \u001b[1;33m=\u001b[0m \u001b[1;33m{\u001b[0m\u001b[1;34m'bar'\u001b[0m\u001b[1;33m:\u001b[0m\u001b[1;36m100\u001b[0m\u001b[1;33m}\u001b[0m\u001b[1;33m\u001b[0m\u001b[1;33m\u001b[0m\u001b[0m\n\u001b[1;32m----> 2\u001b[1;33m \u001b[0mspam\u001b[0m\u001b[1;33m[\u001b[0m\u001b[1;34m'foo'\u001b[0m\u001b[1;33m]\u001b[0m\u001b[1;33m\u001b[0m\u001b[1;33m\u001b[0m\u001b[0m\n\u001b[0m",
      "\u001b[1;31mKeyError\u001b[0m: 'foo'"
     ]
    }
   ],
   "source": [
    "spam = {'bar':100}\n",
    "spam['foo']"
   ]
  },
  {
   "cell_type": "markdown",
   "metadata": {},
   "source": [
    "5.\n",
    "\n",
    "'cat' in spam implies that 'cat' is an key for an item in spam.\n",
    "spam.keys() returns a sequence of the keys for the items in the dictionary. So, 'cat' in spam.keys() also implies that 'cat' is a key in spam.\n",
    "\n",
    "6.\n",
    "\n",
    "'cat' in spam implies that 'cat' is an key for an item in spam.\n",
    "spam.values() returns a sequence of the values for the items in the dictionary. So, 'cat' in spam.values() implies that 'cat' is a value in spam.\n",
    "\n",
    "7.\n",
    "\n",
    "We can use the .get function as shown below:"
   ]
  },
  {
   "cell_type": "code",
   "execution_count": 11,
   "metadata": {},
   "outputs": [
    {
     "name": "stdout",
     "output_type": "stream",
     "text": [
      "{'color': 'pink'}\n",
      "{'color': 'pink'}\n",
      "{'bar': 'foo'}\n",
      "{'bar': 'foo', 'color': 'black'}\n"
     ]
    }
   ],
   "source": [
    "spam = {'color':'pink'}\n",
    "print(spam)\n",
    "spam['color'] = spam.get('color', 'black')\n",
    "print(spam)\n",
    "spam = {'bar':'foo'}\n",
    "print(spam)\n",
    "spam['color'] = spam.get('color', 'black')\n",
    "print(spam)"
   ]
  },
  {
   "cell_type": "markdown",
   "metadata": {},
   "source": [
    "8.\n",
    "\n",
    "We can use the pprint function of the pprint module."
   ]
  },
  {
   "cell_type": "code",
   "execution_count": 37,
   "metadata": {},
   "outputs": [
    {
     "name": "stdout",
     "output_type": "stream",
     "text": [
      "Normal Printing:\n",
      "{'a': [1, 2, 3, 4], (1, 2): 'val', 'x': 234.1, 1: 'one', 8: 'eight', '9': 'nine str', 10: 'ten', 11: 'eleven'}\n",
      "Pretty Printing:\n",
      "{1: 'one',\n",
      " 8: 'eight',\n",
      " 10: 'ten',\n",
      " 11: 'eleven',\n",
      " '9': 'nine str',\n",
      " 'a': [1, 2, 3, 4],\n",
      " 'x': 234.1,\n",
      " (1, 2): 'val'}\n"
     ]
    }
   ],
   "source": [
    "import pprint\n",
    "spam = {'a':[1,2,3,4], (1,2):'val', 'x':234.1, 1:'one', 8:'eight', '9':'nine str', 10:'ten', 11:'eleven'}\n",
    "print('Normal Printing:')\n",
    "print(spam)\n",
    "print('Pretty Printing:')\n",
    "pprint.pprint(spam)"
   ]
  },
  {
   "cell_type": "code",
   "execution_count": null,
   "metadata": {},
   "outputs": [],
   "source": []
  }
 ],
 "metadata": {
  "kernelspec": {
   "display_name": "Python 3",
   "language": "python",
   "name": "python3"
  },
  "language_info": {
   "codemirror_mode": {
    "name": "ipython",
    "version": 3
   },
   "file_extension": ".py",
   "mimetype": "text/x-python",
   "name": "python",
   "nbconvert_exporter": "python",
   "pygments_lexer": "ipython3",
   "version": "3.7.4"
  }
 },
 "nbformat": 4,
 "nbformat_minor": 4
}
