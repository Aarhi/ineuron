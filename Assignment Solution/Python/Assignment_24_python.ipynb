{
 "cells": [
  {
   "cell_type": "markdown",
   "metadata": {},
   "source": [
    "# Assignment 24\n",
    "\n",
    "Q.1.\n",
    "\n",
    "We can define a function using either def keyword or using lambda. E.g.\n"
   ]
  },
  {
   "cell_type": "code",
   "execution_count": 6,
   "metadata": {},
   "outputs": [
    {
     "data": {
      "text/plain": [
       "1728"
      ]
     },
     "execution_count": 6,
     "metadata": {},
     "output_type": "execute_result"
    }
   ],
   "source": [
    "def cubed(x):\n",
    "    return x**3\n",
    "cubed(12)"
   ]
  },
  {
   "cell_type": "code",
   "execution_count": 5,
   "metadata": {},
   "outputs": [
    {
     "data": {
      "text/plain": [
       "1728"
      ]
     },
     "execution_count": 5,
     "metadata": {},
     "output_type": "execute_result"
    }
   ],
   "source": [
    "(lambda x: x**3)(12)"
   ]
  },
  {
   "cell_type": "markdown",
   "metadata": {},
   "source": [
    "Q.2.\n",
    "\n",
    "Lambda expressions create anonymous functions. i.e. it is not bound to a name. Since lambda expressions can be written in a single line and called immediately, they provide a handy shortcut. E.g. for sorting a list using a different key can be done in a single line using lambda expressions. (Example shown below)\n",
    "\n",
    "Also, functions like map, filter and reduce take as input a function object. If a function needs to be used only once, there is no need to define it separately. We can directly use lambda expressions."
   ]
  },
  {
   "cell_type": "code",
   "execution_count": 7,
   "metadata": {},
   "outputs": [
    {
     "data": {
      "text/plain": [
       "[0, -1, 1, -2, 2]"
      ]
     },
     "execution_count": 7,
     "metadata": {},
     "output_type": "execute_result"
    }
   ],
   "source": [
    "sorted([-2, -1, 0, 1, 2], key=(lambda x: x**2)) #sorting a list of integers based on their squared values"
   ]
  },
  {
   "cell_type": "markdown",
   "metadata": {},
   "source": [
    "Q.3.\n",
    "\n",
    "map() takes two arguments: a function object and an iterable. It applies the function to each element in the iterable and returns an iterable with the results returned by the function. It returns a map_object.\n"
   ]
  },
  {
   "cell_type": "code",
   "execution_count": 10,
   "metadata": {},
   "outputs": [
    {
     "name": "stdout",
     "output_type": "stream",
     "text": [
      "[False, True, False, True, False, True]\n"
     ]
    }
   ],
   "source": [
    "l = [1,2,3,4,5,6]\n",
    "isEven = list(map(lambda x: x % 2 == 0, l))\n",
    "print(isEven)"
   ]
  },
  {
   "cell_type": "markdown",
   "metadata": {},
   "source": [
    "filter() also works in the same way as map but the difference is that it filters out the results that evaluate to False in the function provided. So it returns an iterable of only those elements which returned True for the function."
   ]
  },
  {
   "cell_type": "code",
   "execution_count": 12,
   "metadata": {},
   "outputs": [
    {
     "name": "stdout",
     "output_type": "stream",
     "text": [
      "[2, 4, 6]\n"
     ]
    }
   ],
   "source": [
    "even = list(filter(lambda x: x % 2 == 0, l))\n",
    "print(even)"
   ]
  },
  {
   "cell_type": "markdown",
   "metadata": {},
   "source": [
    "reduce() function is not a built-in function and must be imported from functools. Unlike map and filter, reduce returns a single value.\n",
    "\n",
    "The reduce() function takes as input a function and a sequence. It executes the function using the first 2 elements of the sequence. Then it executes the function using the result of the previous function and the 3rd element of the iterable.\n"
   ]
  },
  {
   "cell_type": "code",
   "execution_count": 15,
   "metadata": {},
   "outputs": [
    {
     "data": {
      "text/plain": [
       "15"
      ]
     },
     "execution_count": 15,
     "metadata": {},
     "output_type": "execute_result"
    }
   ],
   "source": [
    "from functools import reduce\n",
    "reduce(lambda x,y: x+y, [1,2,3,4,5])"
   ]
  },
  {
   "cell_type": "markdown",
   "metadata": {},
   "source": [
    "Q.4.\n",
    "\n",
    "Function annotations are Python expressions that are evaluated during compile time but hold no meaning during runtime.\n",
    "Annotations are used to provide information to external libraries. e.g. the type of arguments and return type of a function"
   ]
  },
  {
   "cell_type": "code",
   "execution_count": 19,
   "metadata": {},
   "outputs": [],
   "source": [
    "def add_int(x: int, y: int) -> int:\n",
    "    return x + y"
   ]
  },
  {
   "cell_type": "code",
   "execution_count": 20,
   "metadata": {},
   "outputs": [
    {
     "data": {
      "text/plain": [
       "5"
      ]
     },
     "execution_count": 20,
     "metadata": {},
     "output_type": "execute_result"
    }
   ],
   "source": [
    "add_int(2,3)"
   ]
  },
  {
   "cell_type": "code",
   "execution_count": 21,
   "metadata": {},
   "outputs": [
    {
     "data": {
      "text/plain": [
       "4.6"
      ]
     },
     "execution_count": 21,
     "metadata": {},
     "output_type": "execute_result"
    }
   ],
   "source": [
    "add_int(1.2, 3.4) #as we can see here, annotations have no impact on runtime behavior"
   ]
  },
  {
   "cell_type": "markdown",
   "metadata": {},
   "source": [
    "If we use a library that checks the type of variables e.g. mypy, then we can see that the above function will return error.\n",
    "\n",
    "Q.5.\n",
    "\n",
    "Recursive function is one that calls itself within the function definition. They can be used in place of iterating over a range using loops. They can also be used to make tree and graph data structure implementations."
   ]
  },
  {
   "cell_type": "code",
   "execution_count": 23,
   "metadata": {},
   "outputs": [],
   "source": [
    "def to_zero(x):\n",
    "    print(\"Reducing {} to zero\".format(x))\n",
    "    if x == 0:\n",
    "        return 0\n",
    "    return to_zero(x-1)"
   ]
  },
  {
   "cell_type": "code",
   "execution_count": 24,
   "metadata": {},
   "outputs": [
    {
     "name": "stdout",
     "output_type": "stream",
     "text": [
      "Reducing 5 to zero\n",
      "Reducing 4 to zero\n",
      "Reducing 3 to zero\n",
      "Reducing 2 to zero\n",
      "Reducing 1 to zero\n",
      "Reducing 0 to zero\n"
     ]
    },
    {
     "data": {
      "text/plain": [
       "0"
      ]
     },
     "execution_count": 24,
     "metadata": {},
     "output_type": "execute_result"
    }
   ],
   "source": [
    "to_zero(5)"
   ]
  },
  {
   "cell_type": "markdown",
   "metadata": {},
   "source": [
    "Q.7.\n",
    "\n",
    "Results can be communicated from function to caller using the keywords return and yield. Results can also be printed within the function. "
   ]
  },
  {
   "cell_type": "code",
   "execution_count": null,
   "metadata": {},
   "outputs": [],
   "source": []
  }
 ],
 "metadata": {
  "kernelspec": {
   "display_name": "Python 3",
   "language": "python",
   "name": "python3"
  },
  "language_info": {
   "codemirror_mode": {
    "name": "ipython",
    "version": 3
   },
   "file_extension": ".py",
   "mimetype": "text/x-python",
   "name": "python",
   "nbconvert_exporter": "python",
   "pygments_lexer": "ipython3",
   "version": "3.8.5"
  }
 },
 "nbformat": 4,
 "nbformat_minor": 4
}
