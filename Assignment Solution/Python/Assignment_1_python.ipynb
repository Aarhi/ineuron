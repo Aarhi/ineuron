{
 "cells": [
  {
   "cell_type": "markdown",
   "metadata": {},
   "source": [
    "# Assignment 1"
   ]
  },
  {
   "cell_type": "markdown",
   "metadata": {},
   "source": [
    "1.\n",
    "\n",
    "*  \tExpression (Mathematical Operator for multiplication)\n",
    "‘hello’ \tValue (str)\n",
    "-87.8 \tValue (float)\n",
    "- \tExpression (Mathematical Operator for subtraction)\n",
    "/ \tExpression (Mathematical Operator for division)\n",
    "+ \tExpression (Mathematical Operator for addition)\n",
    "6 \tValue (int)\n"
   ]
  },
  {
   "cell_type": "markdown",
   "metadata": {},
   "source": [
    "2.\n",
    "\n",
    "Difference between string and variable:\n",
    "A string is a value which is a combination of characters e.g “hello”\n",
    "A variable is a placeholder for values. A variable e.g. var can hold different values. e.g. \n",
    "var = 12\n",
    "var = “hello”\n",
    "A variable stores a particular value which can be retrieved later.\n"
   ]
  },
  {
   "cell_type": "markdown",
   "metadata": {},
   "source": [
    "3.\n",
    "\n",
    "Three different data types:\n",
    "\n",
    "int - Integer values are of this data type\n",
    "\n",
    "float - Decimal values are of this data type\n",
    "\n",
    "str - sequence of characters written inside inverted commas e.g. “world”"
   ]
  },
  {
   "cell_type": "markdown",
   "metadata": {},
   "source": [
    "4.\n",
    "\n",
    "An expression is made of operators and operands. Operands can be values or variables that store values. An expression is evaluated by performing operations with the operators on the operands.\n"
   ]
  },
  {
   "cell_type": "markdown",
   "metadata": {},
   "source": [
    "5. \n",
    "\n",
    "An assignment statement assigns a value to a variable. An expression returns a value but an assignment statement does not.\n",
    "\n",
    "6.\n",
    "\n",
    "bacon contains the value 22\n",
    "\n",
    "7.\n",
    "\n",
    "‘spamspamspam’\n",
    "‘spamspamspam’\n",
    "\n",
    "8. \n",
    "\n",
    "A variable’s name cannot start with a number. Since 100 starts with 1, it is not a valid variable name. But eggs is a valid variable.\n",
    "\n",
    "9.\n",
    "\n",
    "int() function can be used to get integer version of a value\n",
    "float() can be used to get the float version of a value\n",
    "str() function can be used to get the string version of a value\n",
    "\n",
    "10.\n",
    "\n",
    "‘I have eaten ’ + 99 + ‘ burritos.’\n",
    "In this expression, 99 is an int data type. ‘I have eaten’ and ‘burritos’ are of str data type. Addition/concatenation operation of str and int data types is not allowed. So this expression causes error. We can convert 99 to str for this expression to evaluate.\n",
    "‘I have eaten ‘ + str(99) + ‘burritos’\n",
    "\n"
   ]
  },
  {
   "cell_type": "code",
   "execution_count": 3,
   "metadata": {},
   "outputs": [
    {
     "data": {
      "text/plain": [
       "'I have eaten 99 burritos.'"
      ]
     },
     "execution_count": 3,
     "metadata": {},
     "output_type": "execute_result"
    }
   ],
   "source": [
    "'I have eaten ' + str(99) + ' burritos.'"
   ]
  },
  {
   "cell_type": "code",
   "execution_count": null,
   "metadata": {},
   "outputs": [],
   "source": []
  }
 ],
 "metadata": {
  "kernelspec": {
   "display_name": "Python 3",
   "language": "python",
   "name": "python3"
  },
  "language_info": {
   "codemirror_mode": {
    "name": "ipython",
    "version": 3
   },
   "file_extension": ".py",
   "mimetype": "text/x-python",
   "name": "python",
   "nbconvert_exporter": "python",
   "pygments_lexer": "ipython3",
   "version": "3.7.4"
  }
 },
 "nbformat": 4,
 "nbformat_minor": 4
}
