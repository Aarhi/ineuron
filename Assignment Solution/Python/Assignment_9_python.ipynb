{
 "cells": [
  {
   "cell_type": "markdown",
   "metadata": {},
   "source": [
    "# Assignment 9"
   ]
  },
  {
   "cell_type": "code",
   "execution_count": 2,
   "metadata": {},
   "outputs": [],
   "source": [
    "import os"
   ]
  },
  {
   "cell_type": "markdown",
   "metadata": {},
   "source": [
    "Q.1.\n",
    "\n",
    "A relative path is the path to a directory or file from the current working directory.\n",
    "\n",
    "Q.2.\n",
    "\n",
    "An absolute path starts with a backslash. An absolute path is consistent irrespective of whatever the current working directory is.\n",
    "\n",
    "Q.3.\n",
    "\n",
    "os.getcwd() returns the absolute path of the current working directory\n",
    "\n",
    "os.chdir() is used to change the current working directory to the path provided by the argument passed.\n",
    "\n",
    "Q.4.\n",
    "\n",
    ". refers to the current working directory\n",
    "\n",
    ".. refers to the parent directory of current working directory\n",
    "\n",
    "Q.5.\n",
    "\n",
    "dir name is C:\\bacon\\eggs\\\n",
    "basename is spam.txt"
   ]
  },
  {
   "cell_type": "code",
   "execution_count": 22,
   "metadata": {},
   "outputs": [
    {
     "data": {
      "text/plain": [
       "0"
      ]
     },
     "execution_count": 22,
     "metadata": {},
     "output_type": "execute_result"
    }
   ],
   "source": [
    "os.system('dirname C:\\\\bacon\\eggs\\spam.txt')"
   ]
  },
  {
   "cell_type": "markdown",
   "metadata": {},
   "source": [
    "Q.6.\n",
    "\n",
    "The built-in open function has the following modes\n",
    "\n",
    "\"r\" -> read mode - for reading files (default mode)\n",
    "\n",
    "\"w\" -> write mode - for writing to a file, if it already exists\n",
    "\n",
    "\"a\" -> append mode - for appending at the end of the file\n",
    "\n",
    "\"x\" -> for creating a new file and writing to it\n",
    "\n",
    "The os.open function has modes which are given in the format rwxrwxrwx where r = read, w = write, x = execute. The first rwx is for the user, the 2nd rwx is for the group and 3rd for the public. So 111111111 means the user, group and everyone have permission to read, write and execute the file. This number is represented in octal format as 0o777. This is the default value of mode in os.open.\n",
    "\n",
    "Q.7.\n",
    "\n",
    "An already existing file can be opened in \"w\" mode without any errors. While writing using the write method, the previous content is overwritten by the newly given text from the write's argument.\n",
    "\n",
    "Q.8.\n",
    "\n",
    "read() function returns the data of the entire file as a string.\n",
    "\n",
    "readlines() function returns a list of strings corresponding to each line of the file.\n",
    "\n",
    "Q.9.\n",
    "\n",
    "shelve is like the dictionary data structure. It is persistent form of storage that lets your data persist even after your program is closed. The data is stored on a disk."
   ]
  },
  {
   "cell_type": "code",
   "execution_count": null,
   "metadata": {},
   "outputs": [],
   "source": []
  }
 ],
 "metadata": {
  "kernelspec": {
   "display_name": "Python 3",
   "language": "python",
   "name": "python3"
  },
  "language_info": {
   "codemirror_mode": {
    "name": "ipython",
    "version": 3
   },
   "file_extension": ".py",
   "mimetype": "text/x-python",
   "name": "python",
   "nbconvert_exporter": "python",
   "pygments_lexer": "ipython3",
   "version": "3.8.5"
  }
 },
 "nbformat": 4,
 "nbformat_minor": 4
}
