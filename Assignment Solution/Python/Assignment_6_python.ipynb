{
 "cells": [
  {
   "cell_type": "markdown",
   "metadata": {},
   "source": [
    "# Assignment 6\n",
    "\n",
    "1.\n",
    "\n",
    "Escape characters are special characters that are used to insert other characters which are not allowed to be entered by themselves. E.g. the character \" inside a string cannot be used if it is already enclosed within \"\" (double quotes). In that case, \\ character is used."
   ]
  },
  {
   "cell_type": "code",
   "execution_count": 1,
   "metadata": {},
   "outputs": [
    {
     "name": "stdout",
     "output_type": "stream",
     "text": [
      "She asked, \"What are you doing?\"\n"
     ]
    }
   ],
   "source": [
    "s = \"She asked, \\\"What are you doing?\\\"\"\n",
    "print(s)"
   ]
  },
  {
   "cell_type": "markdown",
   "metadata": {},
   "source": [
    "2.\n",
    "\n",
    "\\n is used for going to new line.\n",
    "\n",
    "\\t is used for entering tab space."
   ]
  },
  {
   "cell_type": "code",
   "execution_count": 2,
   "metadata": {},
   "outputs": [
    {
     "name": "stdout",
     "output_type": "stream",
     "text": [
      "How are you?\n",
      "I am fine.\n",
      "Input\tOutput\n"
     ]
    }
   ],
   "source": [
    "s1 = \"How are you?\\nI am fine.\"\n",
    "print(s1)\n",
    "s2 = \"Input\\tOutput\"\n",
    "print(s2)"
   ]
  },
  {
   "cell_type": "markdown",
   "metadata": {},
   "source": [
    "3.\n",
    "\n",
    "To include a backslash character, we have to insert another backslash character before it."
   ]
  },
  {
   "cell_type": "code",
   "execution_count": 3,
   "metadata": {},
   "outputs": [
    {
     "name": "stdout",
     "output_type": "stream",
     "text": [
      "A\\B\n"
     ]
    }
   ],
   "source": [
    "s = \"A\\\\B\"\n",
    "print(s)"
   ]
  },
  {
   "cell_type": "markdown",
   "metadata": {},
   "source": [
    "4.\n",
    "\n",
    "In this case, the string is enclosed with double quotes. So a single quote can be used directly without a back slash. Since the opening quote was a double quote, the string will be closed only with a double quote.\n"
   ]
  },
  {
   "cell_type": "markdown",
   "metadata": {},
   "source": [
    "6.\n",
    "\n",
    "The values returned by the expressions are:\n",
    "\n",
    "'e'\n",
    "\n",
    "'Hello'\n",
    "\n",
    "'Hello'\n",
    "\n",
    "'lo, world!'\n",
    "\n",
    "7.\n",
    "\n",
    "The values returned by the expressions are:\n",
    "\n",
    "'HELLO'\n",
    "\n",
    "True\n",
    "\n",
    "'hello'\n",
    "\n",
    "8.\n",
    "\n",
    "The values returned by the expressions are:\n",
    "\n",
    "['Remember,', 'remember', 'the', 'fifth', 'of', 'July.']\n",
    "\n",
    "'There-can-only-one.'\n",
    "\n",
    "9.\n",
    "\n",
    "Right justify - str.rjust()\n",
    "\n",
    "Left justify - str.ljust()\n",
    "\n",
    "Center justify - str.center()\n",
    "\n",
    "10.\n",
    "\n",
    "To remove whitespace characters from the start, we can use str.lstrip() function.\n",
    "To remove whitespace characters from the end, we can use str.rstrip() function.\n",
    "TO remove whitespace characters from both start and end, we can use str.strip() function.\n"
   ]
  },
  {
   "cell_type": "code",
   "execution_count": null,
   "metadata": {},
   "outputs": [],
   "source": []
  }
 ],
 "metadata": {
  "kernelspec": {
   "display_name": "Python 3",
   "language": "python",
   "name": "python3"
  },
  "language_info": {
   "codemirror_mode": {
    "name": "ipython",
    "version": 3
   },
   "file_extension": ".py",
   "mimetype": "text/x-python",
   "name": "python",
   "nbconvert_exporter": "python",
   "pygments_lexer": "ipython3",
   "version": "3.7.4"
  }
 },
 "nbformat": 4,
 "nbformat_minor": 4
}
