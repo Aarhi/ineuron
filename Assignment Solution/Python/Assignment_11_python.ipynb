{
 "cells": [
  {
   "cell_type": "markdown",
   "metadata": {},
   "source": [
    "# Assignment 11\n",
    "\n",
    "1.\n",
    "\n",
    "assert not(type(spam) == int and spam < 0)\n",
    "\n",
    "2.\n",
    "\n",
    "assert eggs.lower() == bacon.lower()\n",
    "\n",
    "3.\n",
    "\n",
    "assert False\n",
    "\n",
    "4.\n",
    "\n",
    "First we must import the logging library. Then we need to set the logging level as DEBUG since the default logging level does not log DEBUG messages.\n"
   ]
  },
  {
   "cell_type": "code",
   "execution_count": 1,
   "metadata": {},
   "outputs": [
    {
     "name": "stderr",
     "output_type": "stream",
     "text": [
      "DEBUG:root:debug message\n"
     ]
    }
   ],
   "source": [
    "import logging as lg\n",
    "lg.basicConfig(level=logging.DEBUG)\n",
    "lg.debug(\"debug message\")"
   ]
  },
  {
   "cell_type": "markdown",
   "metadata": {},
   "source": [
    "5.\n",
    "\n",
    "We have to provide the destination file in the basicConfig.\n",
    "\n",
    "import logging as lg1\n",
    "lg1.basicConfig(level=lg1.DEBUG, filename='programLog.txt')\n",
    "lg1.debug(\"debug message\")\n",
    "\n",
    "6.\n",
    "\n",
    "DEBUG, INFO, WARNING, ERROR, CRITICAL\n",
    "\n",
    "7.\n",
    "\n",
    "logging.disable()\n",
    "\n",
    "8.\n",
    "\n",
    "You can send logs to a different log file instead of the console. You can control which level of logs you want to be present. Using only print would require unnecessary if statements. Using handlers, different types of logs can be sent to different destinations as required.\n",
    "\n",
    "9.\n",
    "\n",
    "Step in - go to the next statement. If current statement contains a function call, goes into the function definition\n",
    "Step over - go to the next statement. If current statement contains a function call, then the function is executed and then stops at the line after the function call\n",
    "Step out - go out one level of the current function\n",
    "\n",
    "10.\n",
    "\n",
    "Debugger will stop after the end of execution or at a breakpoint\n",
    "\n",
    "11.\n",
    "\n",
    "If there are lines where we want the debugger to stop so that we can print or do some other action at that point of execution, we can keep breakpoints. The execution stops at those breakpoints and continue only when we give the command.\n"
   ]
  },
  {
   "cell_type": "code",
   "execution_count": null,
   "metadata": {},
   "outputs": [],
   "source": []
  }
 ],
 "metadata": {
  "kernelspec": {
   "display_name": "Python 3",
   "language": "python",
   "name": "python3"
  },
  "language_info": {
   "codemirror_mode": {
    "name": "ipython",
    "version": 3
   },
   "file_extension": ".py",
   "mimetype": "text/x-python",
   "name": "python",
   "nbconvert_exporter": "python",
   "pygments_lexer": "ipython3",
   "version": "3.8.5"
  }
 },
 "nbformat": 4,
 "nbformat_minor": 4
}
