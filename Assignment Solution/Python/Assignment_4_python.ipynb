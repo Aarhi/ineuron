{
 "cells": [
  {
   "cell_type": "markdown",
   "metadata": {},
   "source": [
    "# Assignment 4\n",
    "\n",
    "1.\n",
    "\n",
    "[] is an empty list. It's data type is list."
   ]
  },
  {
   "cell_type": "code",
   "execution_count": 1,
   "metadata": {},
   "outputs": [
    {
     "data": {
      "text/plain": [
       "list"
      ]
     },
     "execution_count": 1,
     "metadata": {},
     "output_type": "execute_result"
    }
   ],
   "source": [
    "type([])"
   ]
  },
  {
   "cell_type": "markdown",
   "metadata": {},
   "source": [
    "2.\n",
    "\n",
    "We can use the assignment operator to set the value at the 3rd position i.e. at index 2"
   ]
  },
  {
   "cell_type": "code",
   "execution_count": 2,
   "metadata": {},
   "outputs": [
    {
     "data": {
      "text/plain": [
       "[2, 4, 6, 8, 10]"
      ]
     },
     "execution_count": 2,
     "metadata": {},
     "output_type": "execute_result"
    }
   ],
   "source": [
    "spam = [2, 4, 6, 8, 10]\n",
    "spam"
   ]
  },
  {
   "cell_type": "code",
   "execution_count": 3,
   "metadata": {},
   "outputs": [
    {
     "data": {
      "text/plain": [
       "[2, 4, 'hello', 8, 10]"
      ]
     },
     "execution_count": 3,
     "metadata": {},
     "output_type": "execute_result"
    }
   ],
   "source": [
    "spam[2] = 'hello'\n",
    "spam"
   ]
  },
  {
   "cell_type": "markdown",
   "metadata": {},
   "source": [
    "3.\n",
    "\n",
    "'3' is of type str. So multiplying it by 2, we get '33'. Using the int() function, we get 33 of int datatype. Then dividing 33 by 11, we get 3.0 and upon using int() we get 3.\n",
    "\n",
    "So this operation yields the value spam[3] which is 'd'\n",
    "\n"
   ]
  },
  {
   "cell_type": "code",
   "execution_count": 6,
   "metadata": {},
   "outputs": [
    {
     "data": {
      "text/plain": [
       "'d'"
      ]
     },
     "execution_count": 6,
     "metadata": {},
     "output_type": "execute_result"
    }
   ],
   "source": [
    "spam = ['a', 'b', 'c', 'd']\n",
    "spam[int(int('3'*2)/11)]"
   ]
  },
  {
   "cell_type": "markdown",
   "metadata": {},
   "source": [
    "4.\n",
    "\n",
    "Negative indices count from the last of the list. So, -1 returns the last value of the list which is 'd' here."
   ]
  },
  {
   "cell_type": "code",
   "execution_count": 7,
   "metadata": {},
   "outputs": [
    {
     "data": {
      "text/plain": [
       "'d'"
      ]
     },
     "execution_count": 7,
     "metadata": {},
     "output_type": "execute_result"
    }
   ],
   "source": [
    "spam[-1]"
   ]
  },
  {
   "cell_type": "markdown",
   "metadata": {},
   "source": [
    "5.\n",
    "\n",
    "This expression returns the elements from index 0 up to 2, but excluding 2. So it returns a list of elements from index 0 to 1. So, the answer is ['a', 'b']"
   ]
  },
  {
   "cell_type": "code",
   "execution_count": 8,
   "metadata": {},
   "outputs": [
    {
     "data": {
      "text/plain": [
       "['a', 'b']"
      ]
     },
     "execution_count": 8,
     "metadata": {},
     "output_type": "execute_result"
    }
   ],
   "source": [
    "spam[:2]"
   ]
  },
  {
   "cell_type": "markdown",
   "metadata": {},
   "source": [
    "6.\n",
    "\n",
    "list.index function returns the index of the element given as argument if it is present in the list. If not, it returns -1.\n",
    "bacon.index('cat') returns 1. It searches from the first element and returns the first matching element's index."
   ]
  },
  {
   "cell_type": "code",
   "execution_count": 9,
   "metadata": {},
   "outputs": [
    {
     "data": {
      "text/plain": [
       "1"
      ]
     },
     "execution_count": 9,
     "metadata": {},
     "output_type": "execute_result"
    }
   ],
   "source": [
    "bacon = [3.14, 'cat', 11, 'cat', True]\n",
    "bacon.index('cat')"
   ]
  },
  {
   "cell_type": "markdown",
   "metadata": {},
   "source": [
    "7.\n",
    "\n",
    "bacon.append(99) adds 99 at the end of the list. So the list is now [3.14, 'cat', 11, 'cat', True, 99]\n"
   ]
  },
  {
   "cell_type": "code",
   "execution_count": 10,
   "metadata": {},
   "outputs": [],
   "source": [
    "bacon.append(99)"
   ]
  },
  {
   "cell_type": "code",
   "execution_count": 11,
   "metadata": {},
   "outputs": [
    {
     "name": "stdout",
     "output_type": "stream",
     "text": [
      "[3.14, 'cat', 11, 'cat', True, 99]\n"
     ]
    }
   ],
   "source": [
    "print(bacon)"
   ]
  },
  {
   "cell_type": "markdown",
   "metadata": {},
   "source": [
    "8.\n",
    "\n",
    "bacon.remove('cat') removes the first found element 'cat'. It searches from the first element. So, it removes the 'cat' element at index = 1. The resulting list is [3.14, 11, 'cat', True]\n",
    "\n"
   ]
  },
  {
   "cell_type": "code",
   "execution_count": 12,
   "metadata": {},
   "outputs": [],
   "source": [
    "bacon = [3.14, 'cat', 11, 'cat', True]\n",
    "bacon.remove('cat')"
   ]
  },
  {
   "cell_type": "code",
   "execution_count": 13,
   "metadata": {},
   "outputs": [
    {
     "name": "stdout",
     "output_type": "stream",
     "text": [
      "[3.14, 11, 'cat', True]\n"
     ]
    }
   ],
   "source": [
    "print(bacon)"
   ]
  },
  {
   "cell_type": "markdown",
   "metadata": {},
   "source": [
    "9.\n",
    "\n",
    "list concatenation is done using the + operator. List replication can be done using the .copy method of the list type, or using [:] operation"
   ]
  },
  {
   "cell_type": "code",
   "execution_count": 15,
   "metadata": {},
   "outputs": [
    {
     "name": "stdout",
     "output_type": "stream",
     "text": [
      "[1, 2, 3, 4]\n",
      "[1, 2]\n",
      "[1, 2]\n"
     ]
    }
   ],
   "source": [
    "l1 = [1,2]\n",
    "l2 = [3,4]\n",
    "l_concat = l1 + l2\n",
    "l_repl = l1.copy()\n",
    "l_repl2 = l1[:]\n",
    "print(l_concat)\n",
    "print(l_repl)\n",
    "print(l_repl2)"
   ]
  },
  {
   "cell_type": "markdown",
   "metadata": {},
   "source": [
    "10.\n",
    "\n",
    "append method can only insert an element at the end of a list. It accepts 1 argument.\n",
    "insert method can insert an element at any position of the list. It accepts 2 arguments.\n",
    "\n",
    "11.\n",
    "\n",
    "list.remove function and list.pop function can be used.\n",
    "\n",
    "12.\n",
    "\n",
    "Both characters in a string and elements of a list can be iterated using the indices. A string is like a list or sequence of characters. An element of a string or a list can be retrieved using its index.\n",
    "\n",
    "13.\n",
    "\n",
    "Tuples are immutable. i.e. once the values of the elements are set, the individual elements cannot be modified. But a list is mutable. Each element can be modified.\n",
    "\n",
    "14.\n",
    "\n",
    "A tuple with one element must have a , added after the element.\n",
    "\n"
   ]
  },
  {
   "cell_type": "code",
   "execution_count": 23,
   "metadata": {},
   "outputs": [],
   "source": [
    "t = (42,)"
   ]
  },
  {
   "cell_type": "code",
   "execution_count": 24,
   "metadata": {},
   "outputs": [
    {
     "name": "stdout",
     "output_type": "stream",
     "text": [
      "(42,)\n",
      "<class 'tuple'>\n"
     ]
    }
   ],
   "source": [
    "print(t)\n",
    "print(type(t))"
   ]
  },
  {
   "cell_type": "markdown",
   "metadata": {},
   "source": [
    "15.\n",
    "\n",
    "By using tuple() function, we can get the tuple form of a list.\n",
    "By using list() function, we can get the list form of a tuple."
   ]
  },
  {
   "cell_type": "code",
   "execution_count": 27,
   "metadata": {},
   "outputs": [
    {
     "name": "stdout",
     "output_type": "stream",
     "text": [
      "[1, 2, 3, 4] <class 'list'>\n",
      "(1, 2, 3, 4) <class 'tuple'>\n"
     ]
    }
   ],
   "source": [
    "l = [1,2,3,4]\n",
    "t_l = tuple(l)\n",
    "print(l, type(l))\n",
    "print(t_l, type(t_l))"
   ]
  },
  {
   "cell_type": "code",
   "execution_count": 28,
   "metadata": {},
   "outputs": [
    {
     "name": "stdout",
     "output_type": "stream",
     "text": [
      "(1, 2, 3, 4) <class 'tuple'>\n",
      "[1, 2, 3, 4] <class 'list'>\n"
     ]
    }
   ],
   "source": [
    "t = (1,2,3,4)\n",
    "l_t = list(t)\n",
    "print(t, type(t))\n",
    "print(l_t, type(l_t))"
   ]
  },
  {
   "cell_type": "markdown",
   "metadata": {},
   "source": [
    "17.\n",
    "\n",
    "copy.deepcopy() creates a deep copy of a collection e.g a new list is created whose elements are also copies of the elements in the original list.\n",
    "\n",
    "copy.copy() creates a shallow copy of a collection. e.g. a new list is created whose elements are the same elements as those in the original list. "
   ]
  },
  {
   "cell_type": "code",
   "execution_count": 30,
   "metadata": {},
   "outputs": [
    {
     "name": "stdout",
     "output_type": "stream",
     "text": [
      "copy: [2, 2, [3, 4]]\n",
      "original: [1, 2, [3, 4]]\n",
      "copy: [2, 2, ['changed', 4]]\n",
      "original: [1, 2, ['changed', 4]]\n"
     ]
    }
   ],
   "source": [
    "'''shallow copy'''\n",
    "\n",
    "import copy\n",
    "\n",
    "l = [1,2,[3,4]]\n",
    "s_l = copy.copy(l)\n",
    "#modifying s_l does not change l\n",
    "s_l[0] = 2\n",
    "print('copy:',s_l)\n",
    "print('original:', l)\n",
    "#modifying the elements e.g the list [3,4] inside s_l will change l\n",
    "s_l[2][0] = 'changed'\n",
    "print('copy:',s_l)\n",
    "print('original:', l)"
   ]
  },
  {
   "cell_type": "code",
   "execution_count": 31,
   "metadata": {},
   "outputs": [
    {
     "name": "stdout",
     "output_type": "stream",
     "text": [
      "copy: [2, 2, [3, 4]]\n",
      "original: [1, 2, [3, 4]]\n",
      "copy: [2, 2, ['changed', 4]]\n",
      "original: [1, 2, [3, 4]]\n"
     ]
    }
   ],
   "source": [
    "'''deep copy'''\n",
    "\n",
    "l = [1,2,[3,4]]\n",
    "d_l = copy.deepcopy(l)\n",
    "#modifying s_l does not change l\n",
    "d_l[0] = 2\n",
    "print('copy:',d_l)\n",
    "print('original:', l)\n",
    "#modifying the elements e.g the list [3,4] inside d_l will also not change l\n",
    "d_l[2][0] = 'changed'\n",
    "print('copy:',d_l)\n",
    "print('original:', l)"
   ]
  },
  {
   "cell_type": "code",
   "execution_count": null,
   "metadata": {},
   "outputs": [],
   "source": []
  }
 ],
 "metadata": {
  "kernelspec": {
   "display_name": "Python 3",
   "language": "python",
   "name": "python3"
  },
  "language_info": {
   "codemirror_mode": {
    "name": "ipython",
    "version": 3
   },
   "file_extension": ".py",
   "mimetype": "text/x-python",
   "name": "python",
   "nbconvert_exporter": "python",
   "pygments_lexer": "ipython3",
   "version": "3.7.4"
  }
 },
 "nbformat": 4,
 "nbformat_minor": 4
}
