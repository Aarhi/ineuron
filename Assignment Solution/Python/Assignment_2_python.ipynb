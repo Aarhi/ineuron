{
 "cells": [
  {
   "cell_type": "markdown",
   "metadata": {},
   "source": [
    "# Assignment 2"
   ]
  },
  {
   "cell_type": "markdown",
   "metadata": {},
   "source": [
    "1.\n",
    "\n",
    "The boolean data type has 2 values: 1)True 2)False\n",
    "They are written as True and False\n",
    "\n",
    "2.\n",
    "\n",
    "The boolean operators are: 1) and 2) or 3) not\n",
    "\n",
    "3.\n",
    "\n",
    "not\n",
    "\n",
    "\n",
    "input    output\n",
    "True     False\n",
    "False    True\n",
    "\n",
    "\n",
    "and\n",
    "\n",
    "\n",
    "Input 1 Input 2 Output\n",
    "True    True    True\n",
    "True    False   False\n",
    "False   True    False\n",
    "False   False   False\n",
    "\n",
    "\n",
    "or \n",
    "\n",
    "\n",
    "Input 1 Input 2 Output\n",
    "True    True    True\n",
    "True    False   True\n",
    "False   True    True\n",
    "False   False   False\n",
    "\n",
    "4. \n",
    "\n",
    "False\n",
    "False\n",
    "True\n",
    "False\n",
    "False\n",
    "True\n",
    "\n",
    "5.\n",
    "\n",
    "The six comparison operators are ==, !=, <, >, <=, >=\n",
    "a == b is True if a and b are equal\n",
    "a != b is True if a and b are not equal\n",
    "a >= b is True if a is greater than or equal to b\n",
    "a > b is True if a is greater than b\n",
    "a <= b is True if a is less than or equal to b\n",
    "a < b is True if a is less than b\n",
    "\n",
    "6. \n",
    "\n",
    "The assignment operator is a single =. The equal to operator is double =.\n",
    "To assign a value to a variable we use assignment operator e.g. a = 2\n",
    "To check if 2 values are equal we use equal to operator e.g. 2 == 3\n",
    "\n",
    "7.\n",
    "\n",
    "First block:\n",
    "\n",
    "if spam == 10:\n",
    "\n",
    "print (‘eggs’)\n",
    "\n",
    "Second block:\n",
    "\n",
    "if spam > 5:\n",
    "\n",
    "print(‘bacon’)\n",
    "\n",
    "Third block:\n",
    "\n",
    "else:\n",
    "\n",
    "print(‘ham’)\n",
    "\n",
    "8.\n",
    "\n"
   ]
  },
  {
   "cell_type": "code",
   "execution_count": 2,
   "metadata": {},
   "outputs": [],
   "source": [
    "spam = 1"
   ]
  },
  {
   "cell_type": "code",
   "execution_count": 5,
   "metadata": {},
   "outputs": [
    {
     "name": "stdout",
     "output_type": "stream",
     "text": [
      "Hello\n"
     ]
    }
   ],
   "source": [
    "if spam == 1:\n",
    "\tprint('Hello')\n",
    "elif spam== 2:\n",
    "\tprint('Howdy')\n",
    "else:\n",
    "\tprint('Greetings')"
   ]
  },
  {
   "cell_type": "markdown",
   "metadata": {},
   "source": [
    "10.\n",
    "\n",
    "A break statement stops the execution of the loop inside which it is called. Then the execution resumes from outside the loop from the next line.\n",
    "A continue statement stops the execution of the current iteration and resumes execution from the next iteration of the loop.\n",
    "\n",
    "11.\n",
    "\n",
    "range(10), range(0,10) and range(0,10,1) all mean the same: [0,1,2,3,4,5,6,7,8,9]\n",
    "\n",
    "12.\n"
   ]
  },
  {
   "cell_type": "code",
   "execution_count": 7,
   "metadata": {},
   "outputs": [
    {
     "name": "stdout",
     "output_type": "stream",
     "text": [
      "1\n",
      "2\n",
      "3\n",
      "4\n",
      "5\n",
      "6\n",
      "7\n",
      "8\n",
      "9\n",
      "10\n",
      "1\n",
      "2\n",
      "3\n",
      "4\n",
      "5\n",
      "6\n",
      "7\n",
      "8\n",
      "9\n",
      "10\n"
     ]
    }
   ],
   "source": [
    "for i in range(1,11):\n",
    "\tprint(i)\n",
    "\n",
    "i = 1\n",
    "while i <= 10:\n",
    "\tprint(i)\n",
    "\ti += 1\n"
   ]
  },
  {
   "cell_type": "markdown",
   "metadata": {},
   "source": [
    "13.\n",
    "\n",
    "spam.bacon()\n"
   ]
  },
  {
   "cell_type": "code",
   "execution_count": null,
   "metadata": {},
   "outputs": [],
   "source": []
  }
 ],
 "metadata": {
  "kernelspec": {
   "display_name": "Python 3",
   "language": "python",
   "name": "python3"
  },
  "language_info": {
   "codemirror_mode": {
    "name": "ipython",
    "version": 3
   },
   "file_extension": ".py",
   "mimetype": "text/x-python",
   "name": "python",
   "nbconvert_exporter": "python",
   "pygments_lexer": "ipython3",
   "version": "3.7.4"
  }
 },
 "nbformat": 4,
 "nbformat_minor": 4
}
