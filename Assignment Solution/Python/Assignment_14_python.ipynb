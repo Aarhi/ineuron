{
 "cells": [
  {
   "cell_type": "markdown",
   "metadata": {},
   "source": [
    "# Assignment 14"
   ]
  },
  {
   "cell_type": "markdown",
   "metadata": {},
   "source": [
    "Q.1.\n",
    "\n",
    "RGBA stands for red, green, blue alpha. It is a colour model describing the amount of red, green and blue in each pixel of an image. The alpha stands for the opacity of the image pixel.\n",
    "\n",
    "Q.2."
   ]
  },
  {
   "cell_type": "code",
   "execution_count": 1,
   "metadata": {},
   "outputs": [],
   "source": [
    "from PIL import Image"
   ]
  },
  {
   "cell_type": "code",
   "execution_count": 2,
   "metadata": {},
   "outputs": [],
   "source": [
    "im = Image.open(\"Capture.png\")"
   ]
  },
  {
   "cell_type": "code",
   "execution_count": 3,
   "metadata": {},
   "outputs": [
    {
     "data": {
      "text/plain": [
       "'RGBA'"
      ]
     },
     "execution_count": 3,
     "metadata": {},
     "output_type": "execute_result"
    }
   ],
   "source": [
    "im.mode"
   ]
  },
  {
   "cell_type": "code",
   "execution_count": 13,
   "metadata": {},
   "outputs": [],
   "source": [
    "r, g, b, a = im.split()"
   ]
  },
  {
   "cell_type": "code",
   "execution_count": 16,
   "metadata": {},
   "outputs": [
    {
     "name": "stdout",
     "output_type": "stream",
     "text": [
      "32\n"
     ]
    }
   ],
   "source": [
    "r_val = r.getdata()\n",
    "g_val = g.getdata()\n",
    "b_val = b.getdata()\n",
    "a_val = a.getdata()\n",
    "\n",
    "print(r_val[0])"
   ]
  },
  {
   "cell_type": "code",
   "execution_count": 17,
   "metadata": {},
   "outputs": [
    {
     "name": "stdout",
     "output_type": "stream",
     "text": [
      "32 32 255\n"
     ]
    }
   ],
   "source": [
    "print(g_val[0], b_val[0], a_val[0])"
   ]
  },
  {
   "cell_type": "markdown",
   "metadata": {},
   "source": [
    "Q.3.\n",
    "\n",
    "Box is a tuple with 4 elements which represent the left, upper, right and bottom pixel coordinates of a rectangle. Using this tuple, we can crop an image at particular positions, to indicate size for a new image etc\n",
    "\n",
    "Q.4.\n",
    "\n",
    "im.size can be used to get height and width as a tuple"
   ]
  },
  {
   "cell_type": "code",
   "execution_count": 3,
   "metadata": {},
   "outputs": [
    {
     "data": {
      "text/plain": [
       "(450, 349)"
      ]
     },
     "execution_count": 3,
     "metadata": {},
     "output_type": "execute_result"
    }
   ],
   "source": [
    "im.size"
   ]
  },
  {
   "cell_type": "markdown",
   "metadata": {},
   "source": [
    "Q.5."
   ]
  },
  {
   "cell_type": "code",
   "execution_count": 28,
   "metadata": {},
   "outputs": [
    {
     "data": {
      "text/plain": [
       "(100, 100)"
      ]
     },
     "execution_count": 28,
     "metadata": {},
     "output_type": "execute_result"
    }
   ],
   "source": [
    "im_100by100 = im.resize((100,100))\n",
    "im_100by100.size"
   ]
  },
  {
   "cell_type": "code",
   "execution_count": 29,
   "metadata": {},
   "outputs": [],
   "source": [
    "from PIL import ImageDraw"
   ]
  },
  {
   "cell_type": "code",
   "execution_count": 30,
   "metadata": {},
   "outputs": [],
   "source": [
    "imd = ImageDraw.Draw(im_100by100)\n",
    "imd.rectangle([0,50,50,100], fill=\"#000000\") #fills the lower left quarter with black"
   ]
  },
  {
   "cell_type": "code",
   "execution_count": 31,
   "metadata": {},
   "outputs": [],
   "source": [
    "im_100by100.show()"
   ]
  },
  {
   "cell_type": "markdown",
   "metadata": {},
   "source": [
    "Q.6.\n",
    "\n",
    "The Image object can be saved as a file using Image.save function. The filename is provided as an argument to the function.\n",
    "\n",
    "Q.7.\n",
    "\n",
    "ImageDraw module contains shape-drawing codes\n",
    "\n",
    "Q.8.\n",
    "\n",
    "An ImageDraw object has drawing methods. It is used as follows:\n",
    "\n",
    "im = Image.open(\"someimage.jpg\")\n",
    "imd = ImageDraw.draw(im)\n",
    "imd.rectangle(args) #any drawing function of the ImageDraw module can be used here\n",
    "\n",
    "im.show() #shows the drawn image"
   ]
  },
  {
   "cell_type": "code",
   "execution_count": null,
   "metadata": {},
   "outputs": [],
   "source": []
  }
 ],
 "metadata": {
  "kernelspec": {
   "display_name": "Python 3",
   "language": "python",
   "name": "python3"
  },
  "language_info": {
   "codemirror_mode": {
    "name": "ipython",
    "version": 3
   },
   "file_extension": ".py",
   "mimetype": "text/x-python",
   "name": "python",
   "nbconvert_exporter": "python",
   "pygments_lexer": "ipython3",
   "version": "3.8.5"
  }
 },
 "nbformat": 4,
 "nbformat_minor": 4
}
