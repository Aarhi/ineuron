{
 "cells": [
  {
   "cell_type": "markdown",
   "metadata": {},
   "source": [
    "# Assignment 23\n",
    "\n",
    "Q.1.\n",
    "\n",
    "Output:\n",
    "\n",
    "1 2 8\n",
    "\n",
    "Explanation:\n",
    "\n",
    "The default value of argument b is 6 and argument c is 8. Since the function call does not provide value of c, it uses the default value.\n",
    "\n",
    "Q.2.\n",
    "\n",
    "Output:\n",
    "\n",
    "1 2 3\n",
    "\n",
    "Explanation:\n",
    "\n",
    "c=3 and b=2 in the function call implies that c and b are keyword arguments. Since these keywords appear in the formal parameter list of the function definition, the call executes without any error and places the correct values with the correct arguments\n",
    "\n",
    "Q.3.\n",
    "\n",
    "Output:\n",
    "\n",
    "1 (2,3)\n",
    "\n",
    "Explanation:\n",
    "\n",
    "pargs takes positional arguments. The variable pargs stores the positional arguments inside a tuple. Printing pargs prints this tuple of positional arguments.\n",
    "\n",
    "Q.4.\n",
    "\n",
    "Output:\n",
    "\n",
    "1, {'c':3,'b':2}\n",
    "\n",
    "Explanation:\n",
    "\n",
    "** kargs takes keyword arguments. The variable kargs stores the keyword arguments inside a dictionary mapping the named arguments with their values. Printing kargs prints this dictionary.\n",
    "\n",
    "Q.5.\n",
    "\n",
    "Output:\n",
    "\n",
    "1 5 6 5\n",
    "\n",
    "Explanation:\n",
    "\n",
    "b, c and d have default parameter values in the function definition. This means they don't necessarily need to be passed as arguments in the function call. In the function call, the second argument is a positional argument that takes a tuple of 2 elements. These are respectively placed for b and c. d takes its default value.\n",
    "\n",
    "Q.6.\n",
    "\n",
    "Output:\n",
    "\n",
    "1 ['x'] {'a':'y'}\n",
    "\n",
    "Explanation:\n",
    "\n",
    "The int type is immutable. So, even though the variable 'a' has changed its value from 1 to 2, the value of 'l' remains the same whether inside or outside the function. The list and dictionary types are mutable. So, we can change their contents.\n"
   ]
  },
  {
   "cell_type": "code",
   "execution_count": null,
   "metadata": {},
   "outputs": [],
   "source": []
  }
 ],
 "metadata": {
  "kernelspec": {
   "display_name": "Python 3",
   "language": "python",
   "name": "python3"
  },
  "language_info": {
   "codemirror_mode": {
    "name": "ipython",
    "version": 3
   },
   "file_extension": ".py",
   "mimetype": "text/x-python",
   "name": "python",
   "nbconvert_exporter": "python",
   "pygments_lexer": "ipython3",
   "version": "3.8.5"
  }
 },
 "nbformat": 4,
 "nbformat_minor": 4
}
