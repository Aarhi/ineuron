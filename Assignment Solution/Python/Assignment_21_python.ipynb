{
 "cells": [
  {
   "cell_type": "markdown",
   "metadata": {},
   "source": [
    "# Assignment 21"
   ]
  },
  {
   "cell_type": "code",
   "execution_count": 1,
   "metadata": {},
   "outputs": [],
   "source": [
    "# Q.1.\n",
    "from datetime import datetime\n",
    "from datetime import date"
   ]
  },
  {
   "cell_type": "code",
   "execution_count": 2,
   "metadata": {},
   "outputs": [
    {
     "data": {
      "text/plain": [
       "datetime.date(2021, 7, 21)"
      ]
     },
     "execution_count": 2,
     "metadata": {},
     "output_type": "execute_result"
    }
   ],
   "source": [
    "current_date = date.today()\n",
    "current_date"
   ]
  },
  {
   "cell_type": "code",
   "execution_count": 5,
   "metadata": {},
   "outputs": [
    {
     "name": "stdout",
     "output_type": "stream",
     "text": [
      "2021-07-21\n"
     ]
    }
   ],
   "source": [
    "print(current_date)"
   ]
  },
  {
   "cell_type": "code",
   "execution_count": 6,
   "metadata": {},
   "outputs": [
    {
     "data": {
      "text/plain": [
       "'2021-07-21'"
      ]
     },
     "execution_count": 6,
     "metadata": {},
     "output_type": "execute_result"
    }
   ],
   "source": [
    "str(current_date)"
   ]
  },
  {
   "cell_type": "code",
   "execution_count": 7,
   "metadata": {},
   "outputs": [],
   "source": [
    "with open(\"today.txt\", \"x\") as f:\n",
    "    f.write(str(current_date))\n",
    "    f.close()"
   ]
  },
  {
   "cell_type": "code",
   "execution_count": 8,
   "metadata": {},
   "outputs": [
    {
     "name": "stdout",
     "output_type": "stream",
     "text": [
      "2021-07-21\n"
     ]
    }
   ],
   "source": [
    "with open(\"today.txt\", \"r\") as f:\n",
    "    print(f.read())\n",
    "    f.close()"
   ]
  },
  {
   "cell_type": "code",
   "execution_count": 10,
   "metadata": {},
   "outputs": [
    {
     "data": {
      "text/plain": [
       "'2021-07-21'"
      ]
     },
     "execution_count": 10,
     "metadata": {},
     "output_type": "execute_result"
    }
   ],
   "source": [
    "# Q.2.\n",
    "\n",
    "with open(\"today.txt\", \"r\") as f:\n",
    "    today_string = f.read()\n",
    "    f.close()\n",
    "today_string"
   ]
  },
  {
   "cell_type": "code",
   "execution_count": 17,
   "metadata": {},
   "outputs": [
    {
     "data": {
      "text/plain": [
       "datetime.datetime(2021, 7, 21, 0, 0)"
      ]
     },
     "execution_count": 17,
     "metadata": {},
     "output_type": "execute_result"
    }
   ],
   "source": [
    "# Q.3.\n",
    "\n",
    "datetime.strptime(today_string, \"%Y-%m-%d\")"
   ]
  },
  {
   "cell_type": "code",
   "execution_count": 20,
   "metadata": {},
   "outputs": [],
   "source": [
    "# Q.4.\n",
    "\n",
    "import os"
   ]
  },
  {
   "cell_type": "code",
   "execution_count": 21,
   "metadata": {},
   "outputs": [
    {
     "data": {
      "text/plain": [
       "['.bash_history',\n",
       " '.cisco',\n",
       " '.conda',\n",
       " '.condarc',\n",
       " '.config',\n",
       " '.dbshell',\n",
       " '.eclipse',\n",
       " '.gitconfig',\n",
       " '.idlerc',\n",
       " '.ipynb_checkpoints',\n",
       " '.ipython',\n",
       " '.jupyter',\n",
       " '.mongorc.js',\n",
       " '.node_repl_history',\n",
       " '.Origin',\n",
       " '.p2',\n",
       " '.python_history',\n",
       " '.QtWebEngineProcess',\n",
       " '.streamlit',\n",
       " '.tooling',\n",
       " '3D Objects',\n",
       " 'Adv_assignment_1_python.ipynb',\n",
       " 'Adv_assignment_2_python.ipynb',\n",
       " 'Adv_assignment_3_python.ipynb',\n",
       " 'Adv_assignment_4_python.ipynb',\n",
       " 'Adv_assignment_5_python.ipynb',\n",
       " 'Adv_prog_10_python.ipynb',\n",
       " 'Adv_prog_11_python.ipynb',\n",
       " 'Adv_prog_12_python.ipynb',\n",
       " 'Adv_prog_13_python.ipynb',\n",
       " 'Adv_prog_14_python.ipynb',\n",
       " 'Adv_prog_15_python.ipynb',\n",
       " 'Adv_prog_16_python.ipynb',\n",
       " 'Adv_prog_17_python.ipynb',\n",
       " 'Adv_prog_18_python.ipynb',\n",
       " 'Adv_prog_19_python.ipynb',\n",
       " 'Adv_prog_1_python.ipynb',\n",
       " 'Adv_prog_20_python.ipynb',\n",
       " 'Adv_prog_21_python.ipynb',\n",
       " 'Adv_prog_22_python.ipynb',\n",
       " 'Adv_prog_23_python.ipynb',\n",
       " 'Adv_prog_24_python.ipynb',\n",
       " 'Adv_prog_25_python.ipynb',\n",
       " 'Adv_prog_2_python.ipynb',\n",
       " 'Adv_prog_3_python.ipynb',\n",
       " 'Adv_prog_4_python.ipynb',\n",
       " 'Adv_prog_5_python.ipynb',\n",
       " 'Adv_prog_6_python.ipynb',\n",
       " 'Adv_prog_7_python.ipynb',\n",
       " 'Adv_prog_8_python.ipynb',\n",
       " 'Adv_prog_9_python.ipynb',\n",
       " 'anaconda3',\n",
       " 'ansel',\n",
       " 'AppData',\n",
       " 'Application Data',\n",
       " 'assignment10q5',\n",
       " 'Assignment_10_python.ipynb',\n",
       " 'Assignment_11_python.ipynb',\n",
       " 'Assignment_12_python.ipynb',\n",
       " 'Assignment_13_python.ipynb',\n",
       " 'Assignment_14_python.ipynb',\n",
       " 'Assignment_15_python.ipynb',\n",
       " 'Assignment_16_python.ipynb',\n",
       " 'Assignment_17_python.ipynb',\n",
       " 'Assignment_18_python.ipynb',\n",
       " 'Assignment_19_python.ipynb',\n",
       " 'Assignment_1_python.ipynb',\n",
       " 'Assignment_20_python.ipynb',\n",
       " 'Assignment_21_python.ipynb',\n",
       " 'Assignment_22_python.ipynb',\n",
       " 'Assignment_23_python.ipynb',\n",
       " 'Assignment_24_python.ipynb',\n",
       " 'Assignment_25_python.ipynb',\n",
       " 'Assignment_2_python.ipynb',\n",
       " 'Assignment_3_python.ipynb',\n",
       " 'Assignment_4_python.ipynb',\n",
       " 'Assignment_5_python.ipynb',\n",
       " 'Assignment_6_python.ipynb',\n",
       " 'Assignment_7_python.ipynb',\n",
       " 'Assignment_8_python.ipynb',\n",
       " 'Assignment_9_python.ipynb',\n",
       " 'books.csv',\n",
       " 'books.db',\n",
       " 'book_records.csv',\n",
       " 'Capture.PNG',\n",
       " 'catboost_info',\n",
       " 'cgm',\n",
       " 'Contacts',\n",
       " 'Cookies',\n",
       " 'DB Programming - ML fast track - python.ipynb',\n",
       " 'Desktop',\n",
       " 'django-tutorial',\n",
       " 'Documents',\n",
       " 'Downloads',\n",
       " 'eclipse',\n",
       " 'eclipse-workspace',\n",
       " 'f.csv',\n",
       " 'f1.csv',\n",
       " 'Favorites',\n",
       " 'firstdb',\n",
       " 'Flask API and MongoDB - ML fast track - python.ipynb',\n",
       " 'IntelGraphicsProfiles',\n",
       " 'Links',\n",
       " 'Local Settings',\n",
       " 'MicrosoftEdgeBackups',\n",
       " 'MongoDB tutorial.ipynb',\n",
       " 'Music',\n",
       " 'My Documents',\n",
       " 'NetHood',\n",
       " 'newdesta10q5',\n",
       " 'NTUSER.DAT',\n",
       " 'ntuser.dat.LOG1',\n",
       " 'ntuser.dat.LOG2',\n",
       " 'NTUSER.DAT{0e143fed-1463-11eb-87a3-8956848165d1}.TxR.0.regtrans-ms',\n",
       " 'NTUSER.DAT{0e143fed-1463-11eb-87a3-8956848165d1}.TxR.1.regtrans-ms',\n",
       " 'NTUSER.DAT{0e143fed-1463-11eb-87a3-8956848165d1}.TxR.2.regtrans-ms',\n",
       " 'NTUSER.DAT{0e143fed-1463-11eb-87a3-8956848165d1}.TxR.blf',\n",
       " 'NTUSER.DAT{0e143fee-1463-11eb-87a3-8956848165d1}.TM.blf',\n",
       " 'NTUSER.DAT{0e143fee-1463-11eb-87a3-8956848165d1}.TMContainer00000000000000000001.regtrans-ms',\n",
       " 'NTUSER.DAT{0e143fee-1463-11eb-87a3-8956848165d1}.TMContainer00000000000000000002.regtrans-ms',\n",
       " 'ntuser.ini',\n",
       " 'OneDrive',\n",
       " 'Pictures',\n",
       " 'Postman',\n",
       " 'PrintHood',\n",
       " 'programLog.txt',\n",
       " 'Prog_10_python.ipynb',\n",
       " 'Prog_11_python.ipynb',\n",
       " 'Prog_12_python.ipynb',\n",
       " 'Prog_13_python.ipynb',\n",
       " 'Prog_14_python.ipynb',\n",
       " 'Prog_15_python.ipynb',\n",
       " 'Prog_16_python.ipynb',\n",
       " 'Prog_17_python.ipynb',\n",
       " 'Prog_18_python.ipynb',\n",
       " 'Prog_19_python.ipynb',\n",
       " 'Prog_1_python.ipynb',\n",
       " 'Prog_20_python.ipynb',\n",
       " 'Prog_21_python.ipynb',\n",
       " 'Prog_22_python.ipynb',\n",
       " 'Prog_23_python.ipynb',\n",
       " 'Prog_24_python.ipynb',\n",
       " 'Prog_25_python.ipynb',\n",
       " 'Prog_2_python.ipynb',\n",
       " 'Prog_3_python.ipynb',\n",
       " 'Prog_4_python.ipynb',\n",
       " 'Prog_5_python.ipynb',\n",
       " 'Prog_6_python.ipynb',\n",
       " 'Prog_7_python.ipynb',\n",
       " 'Prog_8_python.ipynb',\n",
       " 'Prog_9_python.ipynb',\n",
       " 'PycharmProjects',\n",
       " 'Recent',\n",
       " 'Roaming',\n",
       " 'Saved Games',\n",
       " 'Searches',\n",
       " 'SendTo',\n",
       " 'sometext.txt',\n",
       " 'source',\n",
       " 'SQL Flask Rest API.ipynb',\n",
       " 'Start Menu',\n",
       " 'Templates',\n",
       " 'test-output',\n",
       " 'test.txt',\n",
       " 'today.txt',\n",
       " 'Untitled.ipynb',\n",
       " 'Untitled1.ipynb',\n",
       " 'Untitled2.ipynb',\n",
       " 'Videos',\n",
       " 'zoo.ipynb',\n",
       " 'zoo.py',\n",
       " '_netrc',\n",
       " '__pycache__']"
      ]
     },
     "execution_count": 21,
     "metadata": {},
     "output_type": "execute_result"
    }
   ],
   "source": [
    "os.listdir()"
   ]
  },
  {
   "cell_type": "code",
   "execution_count": 23,
   "metadata": {},
   "outputs": [],
   "source": [
    "# Q.5.\n",
    "\n",
    "parent_dir_list = os.listdir(\"..\")"
   ]
  },
  {
   "cell_type": "code",
   "execution_count": 25,
   "metadata": {},
   "outputs": [
    {
     "data": {
      "text/plain": [
       "['Aarhi',\n",
       " 'All Users',\n",
       " 'Default',\n",
       " 'Default User',\n",
       " 'desktop.ini',\n",
       " 'Public',\n",
       " 'Visitor']"
      ]
     },
     "execution_count": 25,
     "metadata": {},
     "output_type": "execute_result"
    }
   ],
   "source": [
    "parent_dir_list"
   ]
  },
  {
   "cell_type": "code",
   "execution_count": 11,
   "metadata": {},
   "outputs": [],
   "source": [
    "# Q.7.\n",
    "\n",
    "bdt = datetime.strptime('23-01-1998', \"%d-%m-%Y\")\n",
    "bd = bdt.date()"
   ]
  },
  {
   "cell_type": "code",
   "execution_count": 12,
   "metadata": {},
   "outputs": [
    {
     "data": {
      "text/plain": [
       "datetime.date(1998, 1, 23)"
      ]
     },
     "execution_count": 12,
     "metadata": {},
     "output_type": "execute_result"
    }
   ],
   "source": [
    "bd"
   ]
  },
  {
   "cell_type": "code",
   "execution_count": 13,
   "metadata": {},
   "outputs": [
    {
     "data": {
      "text/plain": [
       "4"
      ]
     },
     "execution_count": 13,
     "metadata": {},
     "output_type": "execute_result"
    }
   ],
   "source": [
    "# Q.8.\n",
    "\n",
    "bd.weekday() # 4 -> Friday"
   ]
  },
  {
   "cell_type": "code",
   "execution_count": 15,
   "metadata": {},
   "outputs": [],
   "source": [
    "# Q.9.\n",
    "\n",
    "from datetime import timedelta"
   ]
  },
  {
   "cell_type": "code",
   "execution_count": 20,
   "metadata": {},
   "outputs": [],
   "source": [
    "ten_k_days_old = bdt + timedelta(days=10000)"
   ]
  },
  {
   "cell_type": "code",
   "execution_count": 21,
   "metadata": {},
   "outputs": [
    {
     "name": "stdout",
     "output_type": "stream",
     "text": [
      "2025-06-10 00:00:00\n"
     ]
    }
   ],
   "source": [
    "print(ten_k_days_old)"
   ]
  },
  {
   "cell_type": "code",
   "execution_count": null,
   "metadata": {},
   "outputs": [],
   "source": []
  }
 ],
 "metadata": {
  "kernelspec": {
   "display_name": "Python 3",
   "language": "python",
   "name": "python3"
  },
  "language_info": {
   "codemirror_mode": {
    "name": "ipython",
    "version": 3
   },
   "file_extension": ".py",
   "mimetype": "text/x-python",
   "name": "python",
   "nbconvert_exporter": "python",
   "pygments_lexer": "ipython3",
   "version": "3.8.5"
  }
 },
 "nbformat": 4,
 "nbformat_minor": 4
}
