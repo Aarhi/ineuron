{
 "cells": [
  {
   "cell_type": "markdown",
   "metadata": {},
   "source": [
    "# Assignment 25"
   ]
  },
  {
   "cell_type": "markdown",
   "metadata": {},
   "source": [
    "Q.1.\n",
    "\n",
    "In square brackets, the returned result is a list.\n",
    "\n",
    "In parenthesis, the returned result is a generator object/expression"
   ]
  },
  {
   "cell_type": "code",
   "execution_count": 3,
   "metadata": {},
   "outputs": [
    {
     "name": "stdout",
     "output_type": "stream",
     "text": [
      "Square brackets:  [0, 2, 4, 6, 8, 10, 12, 14, 16, 18]\n",
      "Parenthesis:  <generator object <genexpr> at 0x000001FB6FFF6EB0>\n",
      "0\n",
      "2\n",
      "4\n",
      "6\n",
      "8\n",
      "10\n",
      "12\n",
      "14\n",
      "16\n",
      "18\n"
     ]
    }
   ],
   "source": [
    "l = [x*2 for x in range(10)]\n",
    "print(\"Square brackets: \", l)\n",
    "g = (x*2 for x in range(10))\n",
    "print(\"Parenthesis: \", g)\n",
    "for i in g:\n",
    "    print(i)"
   ]
  },
  {
   "cell_type": "markdown",
   "metadata": {},
   "source": [
    "Q.2.\n",
    "\n",
    "Iterator is an object that represents a stream of data. The elements are returned one by one using the __next__() function.\n",
    "\n",
    "Generators are functions that are used to generate iterators. The yield keyword is used to do so.\n",
    "\n",
    "Q.3.\n",
    "\n",
    "A generator function definition has an yield statement in it.\n",
    "\n",
    "Q.4.\n",
    "\n",
    "The yield keyword behaves like return statement except that it does not exit the function. It continues executing the function. Hence it is used in generator functions to create iterators that return elements one by one through the yield statement.\n",
    "\n",
    "Q.5.\n",
    "\n",
    "The map function iterates over the iteratable and applies the function provided in the argument to each element of the iterator. The result returned is a map object which can be converted into any iterable such as list, tuple, set. A map can use a lambda function as its argument.\n",
    "A list comprehension always returns a list. It is an alternative to writing lambda functions and map(). We can filter the results using if conditions, which cannot be done in a map().\n"
   ]
  },
  {
   "cell_type": "code",
   "execution_count": null,
   "metadata": {},
   "outputs": [],
   "source": []
  }
 ],
 "metadata": {
  "kernelspec": {
   "display_name": "Python 3",
   "language": "python",
   "name": "python3"
  },
  "language_info": {
   "codemirror_mode": {
    "name": "ipython",
    "version": 3
   },
   "file_extension": ".py",
   "mimetype": "text/x-python",
   "name": "python",
   "nbconvert_exporter": "python",
   "pygments_lexer": "ipython3",
   "version": "3.8.5"
  }
 },
 "nbformat": 4,
 "nbformat_minor": 4
}
